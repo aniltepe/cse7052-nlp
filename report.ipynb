{
 "cells": [
  {
   "cell_type": "markdown",
   "metadata": {},
   "source": [
    "## CSE7052 Natural Language Proccessing - Midterm Project"
   ]
  },
  {
   "cell_type": "markdown",
   "metadata": {},
   "source": [
    "### Nazım Anıl Tepe"
   ]
  },
  {
   "cell_type": "markdown",
   "metadata": {},
   "source": [
    "At the beginning of the project, the below file-wise adjustments have been made on the dataset.\n",
    "\n",
    "- The directory named \"Yıldırım Bayazıt Üniversitesi json\" was under the directory \"Maltepe Üniversitesi Json\" as a duplicate, has been removed.\n",
    "- There was a redundant character \"]\" at line 12 in the file \"İstanbul Hukuk Mecmuası 145.json\" and it was breaking the JSON structure, character has been removed.\n",
    "- The file \"Ankara Üniversitesi 56.pdf.json\" has been deleted because there was nothing in it.\n",
    "- The file \"Ankara Üniversitesi 218.pdf.json\" has been deleted because there was insufficient data in it.\n",
    "- The file \"Ankara Üniversitesi 84.pdf.json\" has been deleted because it was Spanish entirely.\n",
    "- The file \"Ankara Üniversitesi 86.pdf.json\" has been deleted because it was Italian entirely.\n",
    "- The file \"Ankara Üniversitesi 216.pdf.json\" had missing parts, has been completed from the original paper.\n",
    "- The file \"Ankara Üniversitesi 217.pdf.json\" had missing parts, has been completed from the original paper.\n",
    "- The file \"Gazi Üniversitesi 6.pdf.json\" had missing parts, has been completed from the original paper.\n",
    "- In the file \"İstanbul Hukuk Mecmuası 104.json\", there was two separate keywords supposed to be combined (\"madde\" and \"791\"), they have been combined (\"madde 791\")."
   ]
  },
  {
   "cell_type": "code",
   "execution_count": 2,
   "metadata": {},
   "outputs": [],
   "source": [
    "import os\n",
    "import json\n",
    "import unicodedata\n",
    "import pandas as pd\n",
    "import numpy as np\n",
    "import re\n",
    "import warnings\n",
    "warnings.filterwarnings(\"ignore\")\n",
    "import matplotlib.pyplot as plt\n",
    "from sklearn.feature_extraction.text import CountVectorizer\n",
    "from sklearn.feature_extraction.text import TfidfVectorizer\n",
    "from sklearn import metrics\n",
    "from sklearn.model_selection import KFold\n",
    "from sklearn import preprocessing\n",
    "from sklearn.multiclass import OneVsRestClassifier\n",
    "from sklearn.linear_model import SGDClassifier\n",
    "from sklearn.tree import DecisionTreeClassifier\n",
    "from sklearn.multioutput import MultiOutputClassifier\n",
    "from sklearn.linear_model import LogisticRegression\n",
    "from sklearn.ensemble import RandomForestClassifier\n",
    "from sklearn.naive_bayes import MultinomialNB\n",
    "from sklearn.neural_network import MLPClassifier\n",
    "from sklearn.decomposition import TruncatedSVD\n",
    "import gensim"
   ]
  },
  {
   "cell_type": "code",
   "execution_count": 3,
   "metadata": {},
   "outputs": [],
   "source": [
    "json_data = []\n",
    "for path, dirs, files in os.walk(f\"./TrainingSet\"):\n",
    "    for file in files:\n",
    "        if file.endswith(\".json\"):\n",
    "            f = open(os.path.join(path, file), encoding=\"utf-8-sig\")\n",
    "            json_data.append(json.load(f))\n",
    "            json_data[-1][\"FileName\"] = file\n",
    "            f.close()"
   ]
  },
  {
   "cell_type": "code",
   "execution_count": 4,
   "metadata": {},
   "outputs": [],
   "source": [
    "CHAR_CONVERSION = {9:32,10:32,33:32,35:32,38:32,40:32,41:32,42:32,43:32,47:45,58:32,59:32,60:-1,61:32,62:-1,63:32,64:32,91:-1,93:-1,94:39,95:45,96:39,123:-1,124:32,125:-1,160:32,167:32,170:-1,171:32,176:-1,180:39,182:-1,184:-1,187:32,223:-1,224:97,225:97,226:97,228:97,229:97,230:101,232:101,233:101,234:101,235:101,236:105,237:105,238:105,239:105,241:110,242:111,243:111,244:111,245:111,248:111,249:117,250:117,251:117,257:97,261:97,263:99,269:99,279:101,299:105,322:108,324:110,353:115,363:117,369:252,382:122,523:105,537:351,601:101,699:39,700:39,703:39,706:-1,714:39,727:-1,774:{103: 287},775:{105: 105},8201:32,8208:45,8211:45,8212:45,8216:39,8217:39,8220:-1,8221:-1,8232:32, }\n",
    "STRING_CONVERSION = {\"$\": \"dolar\",\"…\": \" \",\"ﬀ\": \"ff\",\"ﬁ\": \"fi\",\"ﬂ \": \"fl\",\"ﬂ\": \"fl\",\"ﬄ\": \"ffl\",\"n°\": \"no\",\"N°\": \"no\",\"Anahtar Kelimeler:\": \"\",\"I\": \"ı\",\"İ\": \"i\",\"⅔\": \"%67\",\"⅕\": \"%20\",\"⅘\": \"%80\",\"⅚\": \"%83\",\"¼\": \"%25\",\"½\": \"%50\",\"¾\": \"%75\",}\n",
    "REGEX_CONVERSION = {r\"cov[ı,i]d-*\\s*19\": \"covid19\",r\"(\\smd?\\.?\\s{0,2})((\\d)+)\": r\" madde \\2\",r\"<([a-z]+)(?![^>]*\\/>)[^>]*>\": \"\",r\"\\.\": \" \",r\"-\": \" \",r\"'\": \" \",r\"(\\s(%)(\\s){0,2})((\\d)*)\": r\" yüzde \\4\", r\"%\": \"\", r\"hükumet\": \"hükümet\", r\"ışletme\": \"işletme\", r\"prepayment\": \"önödeme\", r\"arabulucui\": \"arabulucu\"}\n",
    "ABBREVIATIONS = {r\"(^|\\s)(smk)($|\\s|\\.)\":r\"\\1sınai mülkiyet kanunu\\3\", r\"(^|\\s)(t?mk)($|\\s|\\.)\": r\"\\1türk medeni kanunu\\3\", r\"(^|\\s)(t?ck)($|\\s|\\.)\": r\"\\1türk ceza kanunu\\3\", r\"(^|\\s)(t?bk)($|\\s|\\.)\": r\"\\1türk borçlar kanunu\\3\", r\"(^|\\s)(t?tk)($|\\s|\\.)\": r\"\\1türk ticaret kanunu\\3\", r\"(^|\\s)(t?vk)($|\\s|\\.)\": r\"\\1türk vergi kanunu\\3\", r\"(^|\\s)(a(b|t)ad)($|\\s|\\.)\": r\"\\1avrupa birliği adalet divanı\\4\", r\"(^|\\s)(abd)($|\\s|\\.)\": r\"\\1amerika birleşik devletleri\\3\", r\"(^|\\s)(ab)($|\\s|\\.)\": r\"\\1avrupa birliği\\3\", r\"(^|\\s)(bm)($|\\s|\\.)\": r\"\\1birleşmiş milletler\\3\", r\"(^|\\s)(a(i|ı)hm)($|\\s|\\.)\": r\"\\1avrupa insan hakları mahkemesi\\4\", r\"(^|\\s)(a(i|ı)hs)($|\\s|\\.)\": r\"\\1avrupa insan hakları sözleşmesi\\4\", r\"(^|\\s)(möhuk)($|\\s|\\.)\": r\"\\1milletlerarası özel hukuk ve usul hukuku\\3\", r\"(^|\\s)(fsek)($|\\s|\\.)\": r\"\\1fikir ve sanat eserleri kanunu\\3\", r\"(^|\\s)(kktc)($|\\s|\\.)\": r\"\\1kuzey kıbrıs türk cumhuriyeti\\3\", r\"(^|\\s)([ey]?tkhk)($|\\s|\\.)\": r\"\\1tüketicinin korunması hakkında kanun\\3\", r\"(^|\\s)(khk)($|\\s|\\.)\": r\"\\1kanun hükmünde kararname\\3\"}"
   ]
  },
  {
   "cell_type": "code",
   "execution_count": 5,
   "metadata": {},
   "outputs": [],
   "source": [
    "sw_file = open('./stopwords.txt')\n",
    "stop_words = sw_file.read()\n",
    "stop_words = stop_words.split(\"\\n\")\n",
    "sw_file.close()"
   ]
  },
  {
   "cell_type": "code",
   "execution_count": 6,
   "metadata": {},
   "outputs": [],
   "source": [
    "def clean_text(string, kw=False):\n",
    "    for key in STRING_CONVERSION.keys():\n",
    "        string = string.replace(key, STRING_CONVERSION[key])\n",
    "    string = string.lower()\n",
    "    result = []\n",
    "    for char in string:\n",
    "        if unicodedata.combining(char):\n",
    "            try:\n",
    "                result[-1] = chr(CHAR_CONVERSION[ord(char)][ord(result[-1])])\n",
    "            except:\n",
    "                continue\n",
    "        elif ord(char) in CHAR_CONVERSION.keys():\n",
    "            if CHAR_CONVERSION[ord(char)] != -1:\n",
    "                result.append(chr(CHAR_CONVERSION[ord(char)]))\n",
    "        elif ord(char) >= 942:\n",
    "            continue\n",
    "        else:\n",
    "            result.append(char)\n",
    "    result_str = ''.join(result)\n",
    "    result_str = ' '.join([w for w in result_str.split(\" \") if w != \"\"])\n",
    "    for key in ABBREVIATIONS.keys():\n",
    "        result_str = re.sub(key, ABBREVIATIONS[key], result_str)\n",
    "    if kw:\n",
    "        for key in REGEX_CONVERSION.keys():\n",
    "            result_str = re.sub(key, REGEX_CONVERSION[key], result_str)\n",
    "    return((result_str).strip())"
   ]
  },
  {
   "cell_type": "code",
   "execution_count": 7,
   "metadata": {},
   "outputs": [],
   "source": [
    "def clean_list(li, kw=False):\n",
    "    clean_list = []\n",
    "    for item in li:\n",
    "        if len(item.split(\",\")) > 1:\n",
    "            clean_list.extend([it for it in item.split(\",\") if it != \"\"])\n",
    "        elif len(item.split(\";\")) > 1:\n",
    "            clean_list.extend([it for it in item.split(\";\") if it != \"\"])\n",
    "        else:\n",
    "            clean_list.append(item)\n",
    "    clean_list = [clean_text(text, kw) for text in clean_list if text != \"\"]\n",
    "    if not kw:\n",
    "        clean_str = ' '.join(clean_list)\n",
    "        for key in REGEX_CONVERSION.keys():\n",
    "            clean_str = re.sub(key, REGEX_CONVERSION[key], clean_str)\n",
    "        clean_list = [part for part in clean_str.split(\" \") if part != \"\"]\n",
    "        clean_list = [text for text in clean_list if text not in stop_words]\n",
    "    if kw:\n",
    "        clean_list = list(dict.fromkeys(clean_list))\n",
    "    clean_list = [text for text in clean_list if text != \"\"]\n",
    "    return clean_list"
   ]
  },
  {
   "cell_type": "code",
   "execution_count": 8,
   "metadata": {},
   "outputs": [],
   "source": [
    "for data_obj in json_data:\n",
    "    data_obj[\"Metin\"] = re.sub(r\"[-\\w\\.]+@([-\\w]+\\.)+[-\\w]{2,4}\", \"\", data_obj[\"Metin\"])\n",
    "    data_obj[\"Metin\"] = re.sub(r\"https?:\\/\\/(?:www\\.)?[-a-zA-Z0-9@:%._\\+~#=]{1,256}\\.[a-zA-Z0-9()]{1,6}\\b(?:[-a-zA-Z0-9()@:%_\\+.~#?&\\/=]*)\", \"\", data_obj[\"Metin\"])\n",
    "    data_obj[\"Metin\"] = re.sub(r\"<([a-z]+)(?![^>]*\\/>)[^>]*>\", \"\", data_obj[\"Metin\"])"
   ]
  },
  {
   "cell_type": "code",
   "execution_count": 10,
   "metadata": {},
   "outputs": [],
   "source": [
    "words = [(data_obj[\"FileName\"], clean_list(data_obj[\"Metin\"].split(\" \"))) for data_obj in json_data]\n",
    "words = [(wtup[0], len(wtup[1]), wtup[1]) for wtup in words]"
   ]
  },
  {
   "cell_type": "code",
   "execution_count": 11,
   "metadata": {},
   "outputs": [],
   "source": [
    "keywords = [(data_obj[\"FileName\"], clean_list(data_obj[\"Anahtar Kelimeler\"], True)) for data_obj in json_data]\n",
    "keywords = [(kwtup[0], len(kwtup[1]), kwtup[1]) for kwtup in keywords]"
   ]
  },
  {
   "cell_type": "code",
   "execution_count": 33,
   "metadata": {},
   "outputs": [
    {
     "data": {
      "text/html": [
       "<div>\n",
       "<style scoped>\n",
       "    .dataframe tbody tr th:only-of-type {\n",
       "        vertical-align: middle;\n",
       "    }\n",
       "\n",
       "    .dataframe tbody tr th {\n",
       "        vertical-align: top;\n",
       "    }\n",
       "\n",
       "    .dataframe thead th {\n",
       "        text-align: right;\n",
       "    }\n",
       "</style>\n",
       "<table border=\"1\" class=\"dataframe\">\n",
       "  <thead>\n",
       "    <tr style=\"text-align: right;\">\n",
       "      <th></th>\n",
       "      <th>text</th>\n",
       "      <th>tags</th>\n",
       "    </tr>\n",
       "  </thead>\n",
       "  <tbody>\n",
       "    <tr>\n",
       "      <th>0</th>\n",
       "      <td>anonim ortaklıkların amacı kime hizmet ettiği ...</td>\n",
       "      <td>menfaat sahipliği teorisi,insan sermayesi,takı...</td>\n",
       "    </tr>\n",
       "    <tr>\n",
       "      <th>1</th>\n",
       "      <td>uluslararası kamu hukuku devletlerin kimi zama...</td>\n",
       "      <td>ısrarlı itirazcı,itiraz,teamül hukuku,uluslara...</td>\n",
       "    </tr>\n",
       "    <tr>\n",
       "      <th>2</th>\n",
       "      <td>vesayet altındaki kişinin malvarlığının yöneti...</td>\n",
       "      <td>vesayet,vasi,vesayet makamı,vesayet altındaki ...</td>\n",
       "    </tr>\n",
       "    <tr>\n",
       "      <th>3</th>\n",
       "      <td>dolandırıcılık doğru davranma iyiniyet kuralla...</td>\n",
       "      <td>türk ceza kanunu,suç,ceza,hile,dolandırıcılık,...</td>\n",
       "    </tr>\n",
       "    <tr>\n",
       "      <th>4</th>\n",
       "      <td>türkiye 2019 yılının ilk altı ayında yaklaşık ...</td>\n",
       "      <td>gümrük,döviz,mülkiyet hakkı,idari para cezası,...</td>\n",
       "    </tr>\n",
       "  </tbody>\n",
       "</table>\n",
       "</div>"
      ],
      "text/plain": [
       "                                                text  \\\n",
       "0  anonim ortaklıkların amacı kime hizmet ettiği ...   \n",
       "1  uluslararası kamu hukuku devletlerin kimi zama...   \n",
       "2  vesayet altındaki kişinin malvarlığının yöneti...   \n",
       "3  dolandırıcılık doğru davranma iyiniyet kuralla...   \n",
       "4  türkiye 2019 yılının ilk altı ayında yaklaşık ...   \n",
       "\n",
       "                                                tags  \n",
       "0  menfaat sahipliği teorisi,insan sermayesi,takı...  \n",
       "1  ısrarlı itirazcı,itiraz,teamül hukuku,uluslara...  \n",
       "2  vesayet,vasi,vesayet makamı,vesayet altındaki ...  \n",
       "3  türk ceza kanunu,suç,ceza,hile,dolandırıcılık,...  \n",
       "4  gümrük,döviz,mülkiyet hakkı,idari para cezası,...  "
      ]
     },
     "execution_count": 33,
     "metadata": {},
     "output_type": "execute_result"
    }
   ],
   "source": [
    "X = [wtup[2] for wtup in words]\n",
    "y = [kwtup[2] for kwtup in keywords]\n",
    "data = [[' '.join(words[i][2]), ','.join(keywords[i][2])] for i,_ in enumerate(words)]\n",
    "df = pd.DataFrame(data, columns = ['text', 'tags'])\n",
    "df.head()"
   ]
  },
  {
   "cell_type": "code",
   "execution_count": 34,
   "metadata": {},
   "outputs": [
    {
     "data": {
      "text/plain": [
       "tags_count\n",
       "5    451\n",
       "4     89\n",
       "6     75\n",
       "3     41\n",
       "7     26\n",
       "Name: count, dtype: int64"
      ]
     },
     "execution_count": 34,
     "metadata": {},
     "output_type": "execute_result"
    }
   ],
   "source": [
    "df[\"tags_count\"] = df[\"tags\"].apply(lambda x: len(x.split(\",\")))\n",
    "df[\"tags_count\"].value_counts().head()"
   ]
  },
  {
   "cell_type": "markdown",
   "metadata": {},
   "source": [
    "As can be seen, the majority of the documents have 5 keywords."
   ]
  },
  {
   "cell_type": "code",
   "execution_count": 35,
   "metadata": {},
   "outputs": [
    {
     "data": {
      "text/plain": [
       "(717, 2905)"
      ]
     },
     "execution_count": 35,
     "metadata": {},
     "output_type": "execute_result"
    }
   ],
   "source": [
    "vec_count = CountVectorizer(tokenizer = lambda x: x.split(\",\"))\n",
    "tags_bow = vec_count.fit_transform(df['tags'])\n",
    "tags_bow.shape"
   ]
  },
  {
   "cell_type": "markdown",
   "metadata": {},
   "source": [
    "There are 2905 unique keywords (tags)."
   ]
  },
  {
   "cell_type": "code",
   "execution_count": 36,
   "metadata": {},
   "outputs": [
    {
     "data": {
      "text/plain": [
       "array(['12 aylık hoşgörü süresi',\n",
       "       '1808 tarihli fransız ceza muhakemesi kanunu',\n",
       "       '1855 ve 1884 fransız', '1858 ceza kanunu',\n",
       "       '1864 ve 1871 osmanlı vilayet nizamnameleri'], dtype=object)"
      ]
     },
     "execution_count": 36,
     "metadata": {},
     "output_type": "execute_result"
    }
   ],
   "source": [
    "tags = vec_count.get_feature_names_out()\n",
    "tags_freq = tags_bow.sum(axis=0).A1\n",
    "tags_count = dict(zip(tags, tags_freq))\n",
    "tags[0:5]"
   ]
  },
  {
   "cell_type": "code",
   "execution_count": 37,
   "metadata": {},
   "outputs": [
    {
     "data": {
      "text/html": [
       "<div>\n",
       "<style scoped>\n",
       "    .dataframe tbody tr th:only-of-type {\n",
       "        vertical-align: middle;\n",
       "    }\n",
       "\n",
       "    .dataframe tbody tr th {\n",
       "        vertical-align: top;\n",
       "    }\n",
       "\n",
       "    .dataframe thead th {\n",
       "        text-align: right;\n",
       "    }\n",
       "</style>\n",
       "<table border=\"1\" class=\"dataframe\">\n",
       "  <thead>\n",
       "    <tr style=\"text-align: right;\">\n",
       "      <th></th>\n",
       "      <th>tags</th>\n",
       "      <th>counts</th>\n",
       "    </tr>\n",
       "  </thead>\n",
       "  <tbody>\n",
       "    <tr>\n",
       "      <th>459</th>\n",
       "      <td>covid19</td>\n",
       "      <td>20</td>\n",
       "    </tr>\n",
       "    <tr>\n",
       "      <th>50</th>\n",
       "      <td>adil yargılanma hakkı</td>\n",
       "      <td>19</td>\n",
       "    </tr>\n",
       "    <tr>\n",
       "      <th>1757</th>\n",
       "      <td>mülkiyet hakkı</td>\n",
       "      <td>13</td>\n",
       "    </tr>\n",
       "    <tr>\n",
       "      <th>134</th>\n",
       "      <td>anayasa mahkemesi</td>\n",
       "      <td>12</td>\n",
       "    </tr>\n",
       "    <tr>\n",
       "      <th>132</th>\n",
       "      <td>anayasa</td>\n",
       "      <td>11</td>\n",
       "    </tr>\n",
       "  </tbody>\n",
       "</table>\n",
       "</div>"
      ],
      "text/plain": [
       "                       tags  counts\n",
       "459                 covid19      20\n",
       "50    adil yargılanma hakkı      19\n",
       "1757         mülkiyet hakkı      13\n",
       "134       anayasa mahkemesi      12\n",
       "132                 anayasa      11"
      ]
     },
     "execution_count": 37,
     "metadata": {},
     "output_type": "execute_result"
    }
   ],
   "source": [
    "tcount_list = []\n",
    "for key, value in tags_count.items():\n",
    "  tcount_list.append([key, value]) \n",
    "tcount_df = pd.DataFrame(tcount_list, columns=['tags', 'counts'])\n",
    "tcount_df_sorted = tcount_df.sort_values(['counts'], ascending=False)\n",
    "tcount_df_sorted.head()"
   ]
  },
  {
   "cell_type": "code",
   "execution_count": 38,
   "metadata": {},
   "outputs": [
    {
     "data": {
      "image/png": "[encoded data removed]",
      "text/plain": [
       "<Figure size 640x480 with 1 Axes>"
      ]
     },
     "metadata": {},
     "output_type": "display_data"
    }
   ],
   "source": [
    "plt.plot(tcount_df_sorted['counts'][0:100].values)\n",
    "plt.grid()\n",
    "plt.title(\"Top 100 tags: Distribution of frequency of tags\")\n",
    "plt.xlabel(\"Number of tags for most frequent tags\")\n",
    "plt.ylabel(\"Frequency\")\n",
    "plt.show()"
   ]
  },
  {
   "cell_type": "code",
   "execution_count": 39,
   "metadata": {},
   "outputs": [],
   "source": [
    "vec_binary = CountVectorizer(tokenizer = lambda x: x.split(\",\"), binary=True)\n",
    "y_multilabel = vec_binary.fit_transform(df['tags'])"
   ]
  },
  {
   "cell_type": "code",
   "execution_count": 40,
   "metadata": {},
   "outputs": [],
   "source": [
    "df_tags = pd.DataFrame(df[\"tags\"].apply(lambda x: x.split(\",\")).to_list())\n",
    "df_tags_flat = pd.concat([df_tags[col] for col in df_tags])\n",
    "df_tags_unique = df_tags_flat.unique()"
   ]
  },
  {
   "cell_type": "code",
   "execution_count": 41,
   "metadata": {},
   "outputs": [],
   "source": [
    "label_encoder = preprocessing.LabelEncoder()\n",
    "label_encoder.fit(df_tags_unique)\n",
    "y_encoded = np.array(df_tags.apply(lambda x: label_encoder.transform(x)))"
   ]
  },
  {
   "cell_type": "code",
   "execution_count": 42,
   "metadata": {},
   "outputs": [],
   "source": [
    "def binarize_encoding(row):\n",
    "    a = label_encoder.inverse_transform(row)\n",
    "    a = a[a != np.array(None)]\n",
    "    a = np.unique(a)\n",
    "    return sum(vec_binary.transform(a)).toarray()[0]"
   ]
  },
  {
   "cell_type": "markdown",
   "metadata": {},
   "source": [
    "#### Approach 1\n",
    "Logistic Regression with Dense Input Data (Word2Vec) & Label Encoded Multioutput Data"
   ]
  },
  {
   "cell_type": "code",
   "execution_count": 72,
   "metadata": {},
   "outputs": [],
   "source": [
    "VEC_SIZE = 200\n",
    "vec_word2vec = gensim.models.Word2Vec(X, min_count = 1, vector_size = VEC_SIZE, window = 10)"
   ]
  },
  {
   "cell_type": "code",
   "execution_count": 73,
   "metadata": {},
   "outputs": [],
   "source": [
    "X_np = np.zeros((len(X), VEC_SIZE))\n",
    "for i, row in enumerate(X):\n",
    "    for word in row:\n",
    "        X_np[i] += vec_word2vec.wv[word]\n",
    "    X_np[i] /= len(row)"
   ]
  },
  {
   "cell_type": "code",
   "execution_count": 74,
   "metadata": {},
   "outputs": [],
   "source": [
    "clf_logr = MultiOutputClassifier(LogisticRegression(solver='liblinear'))"
   ]
  },
  {
   "cell_type": "code",
   "execution_count": 75,
   "metadata": {},
   "outputs": [
    {
     "name": "stdout",
     "output_type": "stream",
     "text": [
      "# 1 Training: (645, 200) (645, 14) Test: (72, 200) (72, 14)\n",
      "# 2 Training: (645, 200) (645, 14) Test: (72, 200) (72, 14)\n",
      "# 3 Training: (645, 200) (645, 14) Test: (72, 200) (72, 14)\n",
      "# 4 Training: (645, 200) (645, 14) Test: (72, 200) (72, 14)\n",
      "# 5 Training: (645, 200) (645, 14) Test: (72, 200) (72, 14)\n",
      "# 6 Training: (645, 200) (645, 14) Test: (72, 200) (72, 14)\n",
      "# 7 Training: (645, 200) (645, 14) Test: (72, 200) (72, 14)\n",
      "# 8 Training: (646, 200) (646, 14) Test: (71, 200) (71, 14)\n",
      "# 9 Training: (646, 200) (646, 14) Test: (71, 200) (71, 14)\n",
      "# 10 Training: (646, 200) (646, 14) Test: (71, 200) (71, 14)\n"
     ]
    }
   ],
   "source": [
    "k = 10\n",
    "kf = KFold(n_splits=k)\n",
    "\n",
    "scores_logr = np.zeros((k, 6))\n",
    "k_idx = 0\n",
    "for train_index, test_index in kf.split(X_np, y_encoded):\n",
    "    X_train, X_test = X_np[train_index, :], X_np[test_index, :]\n",
    "    y_train, y_test = y_encoded[train_index], y_encoded[test_index]\n",
    "    \n",
    "    print(\"#\", k_idx + 1, \"Training:\", X_train.shape, y_train.shape, \"Test:\", X_test.shape, y_test.shape)\n",
    "    \n",
    "    clf_logr.fit(X_train, y_train)\n",
    "    y_pred = clf_logr.predict(X_test)\n",
    "    y_test_bin = np.array([binarize_encoding(row) for row in y_test])\n",
    "    y_pred_bin = np.array([binarize_encoding(row) for row in y_pred])\n",
    "    acc = metrics.accuracy_score(y_test_bin, y_pred_bin)\n",
    "    prem = metrics.precision_score(y_test_bin, y_pred_bin, average = 'micro')\n",
    "    prew = metrics.precision_score(y_test_bin, y_pred_bin, average = 'weighted')\n",
    "    recl = metrics.recall_score(y_test_bin, y_pred_bin, average = 'micro')\n",
    "    mif1 = metrics.f1_score(y_test_bin, y_pred_bin, average = 'micro')\n",
    "    maf1 = metrics.f1_score(y_test_bin, y_pred_bin, average = 'macro')\n",
    "    scores_logr[k_idx,:] = np.array([acc, prem, prew, recl, mif1, maf1])\n",
    "    k_idx += 1"
   ]
  },
  {
   "cell_type": "code",
   "execution_count": 76,
   "metadata": {},
   "outputs": [],
   "source": [
    "avg_scores_logr = scores_logr.mean(axis=0)"
   ]
  },
  {
   "cell_type": "code",
   "execution_count": 77,
   "metadata": {},
   "outputs": [
    {
     "name": "stdout",
     "output_type": "stream",
     "text": [
      "Logistic Regression accuracy : 0.0\n",
      "Logistic Regression micro precision : 0.08279088941754865\n",
      "Logistic Regression weighted precision : 0.03668833693149239\n",
      "Logistic Regression recall : 0.05125733295951951\n",
      "Logistic Regression micro f1 : 0.06324559056969745\n",
      "Logistic Regression macro f1 : 0.0040214003033178895\n"
     ]
    }
   ],
   "source": [
    "print('Logistic Regression accuracy : {}'.format(avg_scores_logr[0]))\n",
    "print('Logistic Regression micro precision : {}'.format(avg_scores_logr[1]))\n",
    "print('Logistic Regression weighted precision : {}'.format(avg_scores_logr[2]))\n",
    "print('Logistic Regression recall : {}'.format(avg_scores_logr[3]))\n",
    "print('Logistic Regression micro f1 : {}'.format(avg_scores_logr[4]))\n",
    "print('Logistic Regression macro f1 : {}'.format(avg_scores_logr[5]))"
   ]
  },
  {
   "cell_type": "markdown",
   "metadata": {},
   "source": [
    "#### Approach 2\n",
    "Multinomial Naive-Bayes with Sparse Input Data (TF-IDF) & Label Encoded Multioutput Data"
   ]
  },
  {
   "cell_type": "code",
   "execution_count": 80,
   "metadata": {},
   "outputs": [],
   "source": [
    "vec_tfidf = TfidfVectorizer(max_df=0.5, min_df=0.0009, max_features=100000, tokenizer = lambda x: x.split(), ngram_range=(1, 3))"
   ]
  },
  {
   "cell_type": "code",
   "execution_count": 78,
   "metadata": {},
   "outputs": [],
   "source": [
    "clf_mnnb = MultiOutputClassifier(MultinomialNB(fit_prior=True, class_prior=None))"
   ]
  },
  {
   "cell_type": "code",
   "execution_count": 82,
   "metadata": {},
   "outputs": [
    {
     "name": "stdout",
     "output_type": "stream",
     "text": [
      "# 1 Training: (645, 100000) (645, 14) Test: (72, 100000) (72, 14)\n",
      "# 2 Training: (645, 100000) (645, 14) Test: (72, 100000) (72, 14)\n",
      "# 3 Training: (645, 100000) (645, 14) Test: (72, 100000) (72, 14)\n",
      "# 4 Training: (645, 100000) (645, 14) Test: (72, 100000) (72, 14)\n",
      "# 5 Training: (645, 100000) (645, 14) Test: (72, 100000) (72, 14)\n",
      "# 6 Training: (645, 100000) (645, 14) Test: (72, 100000) (72, 14)\n",
      "# 7 Training: (645, 100000) (645, 14) Test: (72, 100000) (72, 14)\n",
      "# 8 Training: (646, 100000) (646, 14) Test: (71, 100000) (71, 14)\n",
      "# 9 Training: (646, 100000) (646, 14) Test: (71, 100000) (71, 14)\n",
      "# 10 Training: (646, 100000) (646, 14) Test: (71, 100000) (71, 14)\n"
     ]
    }
   ],
   "source": [
    "k = 10\n",
    "kf = KFold(n_splits=k)\n",
    "\n",
    "scores_mnnb = np.zeros((k, 6))\n",
    "k_idx = 0\n",
    "for train_index, test_index in kf.split(df, y_encoded):\n",
    "    X_train, X_test = df.iloc[train_index, :], df.iloc[test_index, :]\n",
    "    y_train, y_test = y_encoded[train_index], y_encoded[test_index]\n",
    "    \n",
    "    X_train_tfidf = vec_tfidf.fit_transform(X_train['text'])\n",
    "    X_test_tfidf = vec_tfidf.transform(X_test['text'])\n",
    "    \n",
    "    print(\"#\", k_idx + 1, \"Training:\", X_train_tfidf.shape, y_train.shape, \"Test:\", X_test_tfidf.shape, y_test.shape)\n",
    "    \n",
    "    clf_mnnb.fit(X_train_tfidf, y_train)\n",
    "    y_pred = clf_mnnb.predict(X_test_tfidf)\n",
    "    y_test_bin = np.array([binarize_encoding(row) for row in y_test])\n",
    "    y_pred_bin = np.array([binarize_encoding(row) for row in y_pred])\n",
    "    acc = metrics.accuracy_score(y_test_bin, y_pred_bin)\n",
    "    prem = metrics.precision_score(y_test_bin, y_pred_bin, average = 'micro')\n",
    "    prew = metrics.precision_score(y_test_bin, y_pred_bin, average = 'weighted')\n",
    "    recl = metrics.recall_score(y_test_bin, y_pred_bin, average = 'micro')\n",
    "    mif1 = metrics.f1_score(y_test_bin, y_pred_bin, average = 'micro')\n",
    "    maf1 = metrics.f1_score(y_test_bin, y_pred_bin, average = 'macro')\n",
    "    scores_mnnb[k_idx,:] = np.array([acc, prem, prew, recl, mif1, maf1])\n",
    "    k_idx += 1"
   ]
  },
  {
   "cell_type": "code",
   "execution_count": 83,
   "metadata": {},
   "outputs": [],
   "source": [
    "avg_scores_mnnb = scores_mnnb.mean(axis=0)"
   ]
  },
  {
   "cell_type": "code",
   "execution_count": 84,
   "metadata": {},
   "outputs": [
    {
     "name": "stdout",
     "output_type": "stream",
     "text": [
      "Naive Bayes accuracy : 0.0\n",
      "Naive Bayes micro precision : 0.032063530511370765\n",
      "Naive Bayes weighted precision : 0.00807268125298313\n",
      "Naive Bayes recall : 0.018021449190952606\n",
      "Naive Bayes micro f1 : 0.023051387218976087\n",
      "Naive Bayes macro f1 : 0.0006777351841988766\n"
     ]
    }
   ],
   "source": [
    "print('Naive Bayes accuracy : {}'.format(avg_scores_mnnb[0]))\n",
    "print('Naive Bayes micro precision : {}'.format(avg_scores_mnnb[1]))\n",
    "print('Naive Bayes weighted precision : {}'.format(avg_scores_mnnb[2]))\n",
    "print('Naive Bayes recall : {}'.format(avg_scores_mnnb[3]))\n",
    "print('Naive Bayes micro f1 : {}'.format(avg_scores_mnnb[4]))\n",
    "print('Naive Bayes macro f1 : {}'.format(avg_scores_mnnb[5]))"
   ]
  },
  {
   "cell_type": "markdown",
   "metadata": {},
   "source": [
    "#### Approach 3\n",
    "MLP Classifier with Dense Input Data (Word2Vec) & Label Encoded Multioutput Data"
   ]
  },
  {
   "cell_type": "code",
   "execution_count": 90,
   "metadata": {},
   "outputs": [],
   "source": [
    "clf_mlp = MultiOutputClassifier(MLPClassifier(hidden_layer_sizes=(100,2)))"
   ]
  },
  {
   "cell_type": "code",
   "execution_count": 91,
   "metadata": {},
   "outputs": [
    {
     "name": "stdout",
     "output_type": "stream",
     "text": [
      "# 1 Training: (645, 200) (645, 14) Test: (72, 200) (72, 14)\n",
      "# 2 Training: (645, 200) (645, 14) Test: (72, 200) (72, 14)\n",
      "# 3 Training: (645, 200) (645, 14) Test: (72, 200) (72, 14)\n",
      "# 4 Training: (645, 200) (645, 14) Test: (72, 200) (72, 14)\n",
      "# 5 Training: (645, 200) (645, 14) Test: (72, 200) (72, 14)\n",
      "# 6 Training: (645, 200) (645, 14) Test: (72, 200) (72, 14)\n",
      "# 7 Training: (645, 200) (645, 14) Test: (72, 200) (72, 14)\n",
      "# 8 Training: (646, 200) (646, 14) Test: (71, 200) (71, 14)\n",
      "# 9 Training: (646, 200) (646, 14) Test: (71, 200) (71, 14)\n",
      "# 10 Training: (646, 200) (646, 14) Test: (71, 200) (71, 14)\n"
     ]
    }
   ],
   "source": [
    "k = 10\n",
    "kf = KFold(n_splits=k)\n",
    "\n",
    "scores_mlp = np.zeros((k, 6))\n",
    "k_idx = 0\n",
    "for train_index, test_index in kf.split(X_np, y_encoded):\n",
    "    X_train, X_test = X_np[train_index, :], X_np[test_index, :]\n",
    "    y_train, y_test = y_encoded[train_index], y_encoded[test_index]\n",
    "    \n",
    "    print(\"#\", k_idx + 1, \"Training:\", X_train.shape, y_train.shape, \"Test:\", X_test.shape, y_test.shape)\n",
    "    \n",
    "    clf_mlp.fit(X_train, y_train)\n",
    "    y_pred = clf_mlp.predict(X_test)\n",
    "    y_test_bin = np.array([binarize_encoding(row) for row in y_test])\n",
    "    y_pred_bin = np.array([binarize_encoding(row) for row in y_pred])\n",
    "    acc = metrics.accuracy_score(y_test_bin, y_pred_bin)\n",
    "    prem = metrics.precision_score(y_test_bin, y_pred_bin, average = 'micro')\n",
    "    prew = metrics.precision_score(y_test_bin, y_pred_bin, average = 'weighted')\n",
    "    recl = metrics.recall_score(y_test_bin, y_pred_bin, average = 'micro')\n",
    "    mif1 = metrics.f1_score(y_test_bin, y_pred_bin, average = 'micro')\n",
    "    maf1 = metrics.f1_score(y_test_bin, y_pred_bin, average = 'macro')\n",
    "    scores_mlp[k_idx,:] = np.array([acc, prem, prew, recl, mif1, maf1])\n",
    "    k_idx += 1"
   ]
  },
  {
   "cell_type": "code",
   "execution_count": 92,
   "metadata": {},
   "outputs": [],
   "source": [
    "avg_scores_mlp = scores_mlp.mean(axis=0)"
   ]
  },
  {
   "cell_type": "code",
   "execution_count": 93,
   "metadata": {},
   "outputs": [
    {
     "name": "stdout",
     "output_type": "stream",
     "text": [
      "MLP accuracy : 0.0\n",
      "MLP micro precision : 0.010784580514448342\n",
      "MLP weighted precision : 0.002174627202929247\n",
      "MLP recall : 0.008367162760816987\n",
      "MLP micro f1 : 0.009394495086904521\n",
      "MLP macro f1 : 0.00017753788269273045\n"
     ]
    }
   ],
   "source": [
    "print('MLP accuracy : {}'.format(avg_scores_mlp[0]))\n",
    "print('MLP micro precision : {}'.format(avg_scores_mlp[1]))\n",
    "print('MLP weighted precision : {}'.format(avg_scores_mlp[2]))\n",
    "print('MLP recall : {}'.format(avg_scores_mlp[3]))\n",
    "print('MLP micro f1 : {}'.format(avg_scores_mlp[4]))\n",
    "print('MLP macro f1 : {}'.format(avg_scores_mlp[5]))"
   ]
  },
  {
   "cell_type": "markdown",
   "metadata": {},
   "source": [
    "#### Approach 4\n",
    "SGD Classifier with Sparse Input Data (TF-IDF) & Multilabel Binary Output Data with Reduced Class Size"
   ]
  },
  {
   "cell_type": "code",
   "execution_count": 43,
   "metadata": {},
   "outputs": [],
   "source": [
    "def tags_to_include(n):\n",
    "    tags_sum = y_multilabel.sum(axis=0).tolist()[0]\n",
    "    sorted_tags_i = sorted(range(len(tags_sum)), key=lambda i: tags_sum[i], reverse=True)\n",
    "    yn_multilabel = y_multilabel[:, sorted_tags_i[:n]]\n",
    "    return yn_multilabel\n",
    "\n",
    "def no_of_included_docs(n):\n",
    "    yn_multilabel = tags_to_include(n)\n",
    "    x = yn_multilabel.sum(axis=1)\n",
    "    return (np.count_nonzero(x == 0))"
   ]
  },
  {
   "cell_type": "code",
   "execution_count": 44,
   "metadata": {},
   "outputs": [],
   "source": [
    "docs_included = []\n",
    "tags_total = y_multilabel.shape[1]\n",
    "docs_total = df.shape[0]\n",
    "for i in range(100, tags_total, 100):\n",
    "    docs_included.append(np.round(((docs_total - no_of_included_docs(i)) / docs_total) * 100, 3))"
   ]
  },
  {
   "cell_type": "code",
   "execution_count": 45,
   "metadata": {},
   "outputs": [
    {
     "data": {
      "image/png": "[encoded data removed]",
      "text/plain": [
       "<Figure size 640x480 with 1 Axes>"
      ]
     },
     "metadata": {},
     "output_type": "display_data"
    },
    {
     "name": "stdout",
     "output_type": "stream",
     "text": [
      "%91.353 of documents covered by 1000 tags\n",
      "Number of documents that are not covered by 1000 tags: 62 out of 717\n"
     ]
    }
   ],
   "source": [
    "plt.plot(np.arange(100, tags_total, 100), docs_included)\n",
    "plt.xlabel(\"Number of tags\")\n",
    "plt.ylabel(\"Number of documents covered partially\")\n",
    "plt.grid()\n",
    "plt.show()\n",
    "print(f\"%{docs_included[9]} of documents covered by 1000 tags\")\n",
    "print(\"Number of documents that are not covered by 1000 tags:\", no_of_included_docs(1000), \"out of\", docs_total)"
   ]
  },
  {
   "cell_type": "code",
   "execution_count": 46,
   "metadata": {},
   "outputs": [
    {
     "name": "stdout",
     "output_type": "stream",
     "text": [
      "Number of tags in the subset: 2905\n",
      "Number of tags considered: 1000 (%34.423)\n"
     ]
    }
   ],
   "source": [
    "yn_multilabel = tags_to_include(1000)\n",
    "print(\"Number of tags in the subset:\", y_multilabel.shape[1])\n",
    "print(\"Number of tags considered:\", yn_multilabel.shape[1], f\"(%{np.round((yn_multilabel.shape[1] / y_multilabel.shape[1]) * 100, 3)})\")"
   ]
  },
  {
   "cell_type": "code",
   "execution_count": 53,
   "metadata": {},
   "outputs": [
    {
     "name": "stdout",
     "output_type": "stream",
     "text": [
      "655 (655, 1000)\n"
     ]
    }
   ],
   "source": [
    "df['tags_reduced'] = [sum(yn_multilabel[i].toarray()[0]) for i in range(yn_multilabel.shape[0])]\n",
    "df_reduced = df[df['tags_reduced'] != 0]\n",
    "yn_reduced = yn_multilabel[df['tags_reduced'] != 0]\n",
    "print(df_reduced.shape[0], yn_reduced.shape)"
   ]
  },
  {
   "cell_type": "code",
   "execution_count": 48,
   "metadata": {},
   "outputs": [],
   "source": [
    "vec_tfidf = TfidfVectorizer(max_df=0.5, min_df=0.0009, max_features=200000, tokenizer = lambda x: x.split(), ngram_range=(1, 4))"
   ]
  },
  {
   "cell_type": "code",
   "execution_count": 49,
   "metadata": {},
   "outputs": [],
   "source": [
    "clf_sgd = OneVsRestClassifier(SGDClassifier(loss='log_loss', alpha=0.0001, penalty='l1'))"
   ]
  },
  {
   "cell_type": "code",
   "execution_count": 54,
   "metadata": {},
   "outputs": [
    {
     "name": "stdout",
     "output_type": "stream",
     "text": [
      "# 1 Training: (589, 200000) (589, 1000) Test: (66, 200000) (66, 1000)\n",
      "# 2 Training: (589, 200000) (589, 1000) Test: (66, 200000) (66, 1000)\n",
      "# 3 Training: (589, 200000) (589, 1000) Test: (66, 200000) (66, 1000)\n",
      "# 4 Training: (589, 200000) (589, 1000) Test: (66, 200000) (66, 1000)\n",
      "# 5 Training: (589, 200000) (589, 1000) Test: (66, 200000) (66, 1000)\n",
      "# 6 Training: (590, 200000) (590, 1000) Test: (65, 200000) (65, 1000)\n",
      "# 7 Training: (590, 200000) (590, 1000) Test: (65, 200000) (65, 1000)\n",
      "# 8 Training: (590, 200000) (590, 1000) Test: (65, 200000) (65, 1000)\n",
      "# 9 Training: (590, 200000) (590, 1000) Test: (65, 200000) (65, 1000)\n",
      "# 10 Training: (590, 200000) (590, 1000) Test: (65, 200000) (65, 1000)\n"
     ]
    }
   ],
   "source": [
    "k = 10\n",
    "kf = KFold(n_splits=k)\n",
    "\n",
    "scores_sgd = np.zeros((k, 6))\n",
    "k_idx = 0\n",
    "for train_index, test_index in kf.split(df_reduced, yn_reduced):\n",
    "    X_train, X_test = df_reduced.iloc[train_index, :], df_reduced.iloc[test_index, :]\n",
    "    y_train, y_test = yn_reduced[train_index], yn_reduced[test_index]\n",
    "    \n",
    "    X_train_tfidf = vec_tfidf.fit_transform(X_train['text'])\n",
    "    X_test_tfidf = vec_tfidf.transform(X_test['text'])\n",
    "    \n",
    "    print(\"#\", k_idx + 1, \"Training:\", X_train_tfidf.shape, y_train.shape, \"Test:\", X_test_tfidf.shape, y_test.shape)\n",
    "    \n",
    "    clf_sgd.fit(X_train_tfidf, y_train)\n",
    "    y_pred = clf_sgd.predict(X_test_tfidf)\n",
    "    acc = metrics.accuracy_score(y_test, y_pred)\n",
    "    prem = metrics.precision_score(y_test, y_pred, average = 'micro')\n",
    "    prew = metrics.precision_score(y_test, y_pred, average = 'weighted')\n",
    "    recl = metrics.recall_score(y_test, y_pred, average = 'micro')\n",
    "    mif1 = metrics.f1_score(y_test, y_pred, average = 'micro')\n",
    "    maf1 = metrics.f1_score(y_test, y_pred, average = 'macro')\n",
    "    scores_sgd[k_idx,:] = np.array([acc, prem, prew, recl, mif1, maf1])\n",
    "    k_idx += 1"
   ]
  },
  {
   "cell_type": "code",
   "execution_count": 55,
   "metadata": {},
   "outputs": [],
   "source": [
    "avg_scores_sgd = scores_sgd.mean(axis=0)"
   ]
  },
  {
   "cell_type": "code",
   "execution_count": 56,
   "metadata": {},
   "outputs": [
    {
     "name": "stdout",
     "output_type": "stream",
     "text": [
      "SGD Classifier accuracy : 0.010675990675990676\n",
      "SGD Classifier micro precision : 0.5944445750328102\n",
      "SGD Classifier weighted precision : 0.07684619536187642\n",
      "SGD Classifier recall : 0.06006835849953871\n",
      "SGD Classifier micro f1 : 0.10801563378720018\n",
      "SGD Classifier macro f1 : 0.008775238095238095\n"
     ]
    }
   ],
   "source": [
    "print('SGD Classifier accuracy : {}'.format(avg_scores_sgd[0]))\n",
    "print('SGD Classifier micro precision : {}'.format(avg_scores_sgd[1]))\n",
    "print('SGD Classifier weighted precision : {}'.format(avg_scores_sgd[2]))\n",
    "print('SGD Classifier recall : {}'.format(avg_scores_sgd[3]))\n",
    "print('SGD Classifier micro f1 : {}'.format(avg_scores_sgd[4]))\n",
    "print('SGD Classifier macro f1 : {}'.format(avg_scores_sgd[5]))"
   ]
  }
 ],
 "metadata": {
  "kernelspec": {
   "display_name": "venv",
   "language": "python",
   "name": "python3"
  },
  "language_info": {
   "codemirror_mode": {
    "name": "ipython",
    "version": 3
   },
   "file_extension": ".py",
   "mimetype": "text/x-python",
   "name": "python",
   "nbconvert_exporter": "python",
   "pygments_lexer": "ipython3",
   "version": "3.9.6"
  }
 },
 "nbformat": 4,
 "nbformat_minor": 2
}
